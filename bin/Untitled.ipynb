{
 "cells": [
  {
   "cell_type": "code",
   "execution_count": 1,
   "metadata": {
    "collapsed": true
   },
   "outputs": [],
   "source": [
    "import yt\n"
   ]
  },
  {
   "cell_type": "code",
   "execution_count": 2,
   "metadata": {
    "collapsed": false
   },
   "outputs": [
    {
     "name": "stdout",
     "output_type": "stream",
     "text": [
      "#athena_plot.tmp#        athinput.new             mhdXwind.0000.rst\n",
      "CylWindRot-errors.0.dat  config.log               mhdXwind.0001.bin\n",
      "Untitled.ipynb           id0/                     plot_from_athena.py*\n",
      "athena*                  lowresDat/               plot_from_fort.py~*\n",
      "athena_plot.tmp          mhdXwind.0000.bin        torus9.in\n"
     ]
    }
   ],
   "source": [
    "ls"
   ]
  },
  {
   "cell_type": "code",
   "execution_count": 3,
   "metadata": {
    "collapsed": false
   },
   "outputs": [
    {
     "name": "stdout",
     "output_type": "stream",
     "text": [
      "/Users/dora/WORK/ECLIPSE_SPACE/AthenaWind/bin/id0\n"
     ]
    }
   ],
   "source": [
    "cd id0/"
   ]
  },
  {
   "cell_type": "code",
   "execution_count": 5,
   "metadata": {
    "collapsed": false
   },
   "outputs": [
    {
     "name": "stdout",
     "output_type": "stream",
     "text": [
      "sg_strat.0000.vtk  sg_strat.0006.vtk  sg_strat.0012.vtk  sg_strat.0018.vtk\r\n",
      "sg_strat.0001.vtk  sg_strat.0007.vtk  sg_strat.0013.vtk  sg_strat.0019.vtk\r\n",
      "sg_strat.0002.vtk  sg_strat.0008.vtk  sg_strat.0014.vtk  sg_strat.0020.vtk\r\n",
      "sg_strat.0003.vtk  sg_strat.0009.vtk  sg_strat.0015.vtk  sg_strat.0021.vtk\r\n",
      "sg_strat.0004.vtk  sg_strat.0010.vtk  sg_strat.0016.vtk  sg_strat.0022.vtk\r\n",
      "sg_strat.0005.vtk  sg_strat.0011.vtk  sg_strat.0017.vtk\r\n"
     ]
    }
   ],
   "source": [
    "ls\n"
   ]
  },
  {
   "cell_type": "code",
   "execution_count": 6,
   "metadata": {
    "collapsed": false
   },
   "outputs": [
    {
     "name": "stderr",
     "output_type": "stream",
     "text": [
      "yt : [INFO     ] 2017-05-05 15:35:22,589 Temporarily setting domain_right_edge = -domain_left_edge. This will be corrected automatically if it is not the case.\n",
      "yt : [WARNING  ] 2017-05-05 15:35:22,590 Assuming 1.0 = 1.0 cm\n",
      "yt : [WARNING  ] 2017-05-05 15:35:22,592 Assuming 1.0 = 1.0 s\n",
      "yt : [WARNING  ] 2017-05-05 15:35:22,592 Assuming 1.0 = 1.0 g\n",
      "yt : [INFO     ] 2017-05-05 15:35:22,606 Parameters: current_time              = 0.0\n",
      "yt : [INFO     ] 2017-05-05 15:35:22,606 Parameters: domain_dimensions         = [16 64 96]\n",
      "yt : [INFO     ] 2017-05-05 15:35:22,608 Parameters: domain_left_edge          = [-0.5 -4.  -6. ]\n",
      "yt : [INFO     ] 2017-05-05 15:35:22,609 Parameters: domain_right_edge         = [ 0.5  4.   6. ]\n",
      "yt : [INFO     ] 2017-05-05 15:35:22,610 Parameters: cosmological_simulation   = 0.0\n"
     ]
    }
   ],
   "source": [
    "ds=yt.load(\"sg_strat.0000.vtk\")"
   ]
  },
  {
   "cell_type": "code",
   "execution_count": 7,
   "metadata": {
    "collapsed": false
   },
   "outputs": [
    {
     "name": "stdout",
     "output_type": "stream",
     "text": [
      "level\t# grids\t       # cells\t     # cells^3\n",
      "----------------------------------------------\n",
      "  0\t     1\t         98304\t            47\n",
      "----------------------------------------------\n",
      "   \t     1\t         98304\n",
      "\n",
      "\n",
      "t = 0.00000000e+00 = 0.00000000e+00 s = 0.00000000e+00 years\n",
      "\n",
      "Smallest Cell:\n",
      "\tWidth: 2.025e-26 Mpc\n",
      "\tWidth: 2.025e-20 pc\n",
      "\tWidth: 4.178e-15 AU\n",
      "\tWidth: 6.250e-02 cm\n"
     ]
    }
   ],
   "source": [
    "ds.print_stats()"
   ]
  },
  {
   "cell_type": "code",
   "execution_count": 8,
   "metadata": {
    "collapsed": false
   },
   "outputs": [
    {
     "data": {
      "text/plain": [
       "[('athena', 'cell_centered_B_x'),\n",
       " ('athena', 'cell_centered_B_y'),\n",
       " ('athena', 'cell_centered_B_z'),\n",
       " ('athena', 'density'),\n",
       " ('athena', 'gravitational_potential'),\n",
       " ('athena', 'momentum_x'),\n",
       " ('athena', 'momentum_y'),\n",
       " ('athena', 'momentum_z')]"
      ]
     },
     "execution_count": 8,
     "metadata": {},
     "output_type": "execute_result"
    }
   ],
   "source": [
    "ds.field_list"
   ]
  },
  {
   "cell_type": "code",
   "execution_count": 9,
   "metadata": {
    "collapsed": false
   },
   "outputs": [
    {
     "data": {
      "text/plain": [
       "[('athena', 'cell_centered_B_x'),\n",
       " ('athena', 'cell_centered_B_y'),\n",
       " ('athena', 'cell_centered_B_z'),\n",
       " ('athena', 'cell_volume'),\n",
       " ('athena', 'density'),\n",
       " ('athena', 'dx'),\n",
       " ('athena', 'dy'),\n",
       " ('athena', 'dz'),\n",
       " ('athena', 'gravitational_potential'),\n",
       " ('athena', 'momentum_x'),\n",
       " ('athena', 'momentum_y'),\n",
       " ('athena', 'momentum_z'),\n",
       " ('athena', 'path_element_x'),\n",
       " ('athena', 'path_element_y'),\n",
       " ('athena', 'path_element_z'),\n",
       " ('athena', 'vertex_x'),\n",
       " ('athena', 'vertex_y'),\n",
       " ('athena', 'vertex_z'),\n",
       " ('athena', 'x'),\n",
       " ('athena', 'y'),\n",
       " ('athena', 'z'),\n",
       " ('gas', 'H_nuclei_density'),\n",
       " ('gas', 'He_nuclei_density'),\n",
       " ('gas', 'alfven_speed'),\n",
       " ('gas', 'angular_momentum_magnitude'),\n",
       " ('gas', 'angular_momentum_x'),\n",
       " ('gas', 'angular_momentum_y'),\n",
       " ('gas', 'angular_momentum_z'),\n",
       " ('gas', 'averaged_density'),\n",
       " ('gas', 'cell_mass'),\n",
       " ('gas', 'cell_volume'),\n",
       " ('gas', 'cutting_plane_magnetic_field_x'),\n",
       " ('gas', 'cutting_plane_magnetic_field_y'),\n",
       " ('gas', 'cutting_plane_magnetic_field_z'),\n",
       " ('gas', 'cutting_plane_velocity_x'),\n",
       " ('gas', 'cutting_plane_velocity_y'),\n",
       " ('gas', 'cutting_plane_velocity_z'),\n",
       " ('gas', 'cylindrical_radial_velocity'),\n",
       " ('gas', 'cylindrical_radial_velocity_absolute'),\n",
       " ('gas', 'cylindrical_tangential_velocity'),\n",
       " ('gas', 'cylindrical_tangential_velocity_absolute'),\n",
       " ('gas', 'density'),\n",
       " ('gas', 'density_gradient_magnitude'),\n",
       " ('gas', 'density_gradient_x'),\n",
       " ('gas', 'density_gradient_y'),\n",
       " ('gas', 'density_gradient_z'),\n",
       " ('gas', 'dx'),\n",
       " ('gas', 'dy'),\n",
       " ('gas', 'dynamical_time'),\n",
       " ('gas', 'dz'),\n",
       " ('gas', 'emission_measure'),\n",
       " ('gas', 'gravitational_potential'),\n",
       " ('gas', 'kinetic_energy'),\n",
       " ('gas', 'mach_alfven'),\n",
       " ('gas', 'magnetic_energy'),\n",
       " ('gas', 'magnetic_field_divergence'),\n",
       " ('gas', 'magnetic_field_divergence_absolute'),\n",
       " ('gas', 'magnetic_field_magnitude'),\n",
       " ('gas', 'magnetic_field_poloidal'),\n",
       " ('gas', 'magnetic_field_strength'),\n",
       " ('gas', 'magnetic_field_toroidal'),\n",
       " ('gas', 'magnetic_field_x'),\n",
       " ('gas', 'magnetic_field_y'),\n",
       " ('gas', 'magnetic_field_z'),\n",
       " ('gas', 'magnetic_pressure'),\n",
       " ('gas', 'path_element_x'),\n",
       " ('gas', 'path_element_y'),\n",
       " ('gas', 'path_element_z'),\n",
       " ('gas', 'radial_velocity'),\n",
       " ('gas', 'radial_velocity_absolute'),\n",
       " ('gas', 'shear'),\n",
       " ('gas', 'specific_angular_momentum_magnitude'),\n",
       " ('gas', 'specific_angular_momentum_x'),\n",
       " ('gas', 'specific_angular_momentum_y'),\n",
       " ('gas', 'specific_angular_momentum_z'),\n",
       " ('gas', 'sz_kinetic'),\n",
       " ('gas', 'tangential_over_velocity_magnitude'),\n",
       " ('gas', 'tangential_velocity'),\n",
       " ('gas', 'velocity_cylindrical_radius'),\n",
       " ('gas', 'velocity_cylindrical_theta'),\n",
       " ('gas', 'velocity_cylindrical_z'),\n",
       " ('gas', 'velocity_divergence'),\n",
       " ('gas', 'velocity_divergence_absolute'),\n",
       " ('gas', 'velocity_magnitude'),\n",
       " ('gas', 'velocity_spherical_phi'),\n",
       " ('gas', 'velocity_spherical_radius'),\n",
       " ('gas', 'velocity_spherical_theta'),\n",
       " ('gas', 'velocity_x'),\n",
       " ('gas', 'velocity_y'),\n",
       " ('gas', 'velocity_z'),\n",
       " ('gas', 'vertex_x'),\n",
       " ('gas', 'vertex_y'),\n",
       " ('gas', 'vertex_z'),\n",
       " ('gas', 'vorticity_magnitude'),\n",
       " ('gas', 'vorticity_squared'),\n",
       " ('gas', 'vorticity_stretching_magnitude'),\n",
       " ('gas', 'vorticity_stretching_x'),\n",
       " ('gas', 'vorticity_stretching_y'),\n",
       " ('gas', 'vorticity_stretching_z'),\n",
       " ('gas', 'vorticity_x'),\n",
       " ('gas', 'vorticity_y'),\n",
       " ('gas', 'vorticity_z'),\n",
       " ('gas', 'x'),\n",
       " ('gas', 'y'),\n",
       " ('gas', 'z'),\n",
       " ('index', 'cell_volume'),\n",
       " ('index', 'cylindrical_r'),\n",
       " ('index', 'cylindrical_radius'),\n",
       " ('index', 'cylindrical_theta'),\n",
       " ('index', 'cylindrical_z'),\n",
       " ('index', 'disk_angle'),\n",
       " ('index', 'dx'),\n",
       " ('index', 'dy'),\n",
       " ('index', 'dz'),\n",
       " ('index', 'grid_indices'),\n",
       " ('index', 'grid_level'),\n",
       " ('index', 'height'),\n",
       " ('index', 'ones'),\n",
       " ('index', 'ones_over_dx'),\n",
       " ('index', 'path_element_x'),\n",
       " ('index', 'path_element_y'),\n",
       " ('index', 'path_element_z'),\n",
       " ('index', 'radius'),\n",
       " ('index', 'spherical_phi'),\n",
       " ('index', 'spherical_r'),\n",
       " ('index', 'spherical_radius'),\n",
       " ('index', 'spherical_theta'),\n",
       " ('index', 'vertex_x'),\n",
       " ('index', 'vertex_y'),\n",
       " ('index', 'vertex_z'),\n",
       " ('index', 'virial_radius_fraction'),\n",
       " ('index', 'x'),\n",
       " ('index', 'y'),\n",
       " ('index', 'z'),\n",
       " ('index', 'zeros')]"
      ]
     },
     "execution_count": 9,
     "metadata": {},
     "output_type": "execute_result"
    }
   ],
   "source": [
    "ds.derived_field_list"
   ]
  },
  {
   "cell_type": "code",
   "execution_count": 13,
   "metadata": {
    "collapsed": false
   },
   "outputs": [
    {
     "name": "stdout",
     "output_type": "stream",
     "text": [
      "[[-0.5 -4.  -6. ]] code_length\n"
     ]
    }
   ],
   "source": [
    "print(ds.index.grid_left_edge)"
   ]
  },
  {
   "cell_type": "code",
   "execution_count": 12,
   "metadata": {
    "collapsed": false
   },
   "outputs": [
    {
     "name": "stdout",
     "output_type": "stream",
     "text": [
      "[[ 0.5  4.   6. ]] code_length\n"
     ]
    }
   ],
   "source": [
    "print(ds.index.grid_right_edge)"
   ]
  },
  {
   "cell_type": "code",
   "execution_count": 18,
   "metadata": {
    "collapsed": false
   },
   "outputs": [],
   "source": [
    "g=ds.index.grids[0]"
   ]
  },
  {
   "cell_type": "code",
   "execution_count": 20,
   "metadata": {
    "collapsed": false
   },
   "outputs": [
    {
     "data": {
      "text/plain": [
       "array([16, 64, 96], dtype=int32)"
      ]
     },
     "execution_count": 20,
     "metadata": {},
     "output_type": "execute_result"
    }
   ],
   "source": [
    "g.ActiveDimensions"
   ]
  },
  {
   "cell_type": "code",
   "execution_count": 24,
   "metadata": {
    "collapsed": true
   },
   "outputs": [],
   "source": [
    "gs = ds.index.select_grids(ds.index.max_level)\n",
    "g2=gs[0]"
   ]
  },
  {
   "cell_type": "code",
   "execution_count": 29,
   "metadata": {
    "collapsed": false
   },
   "outputs": [
    {
     "data": {
      "text/plain": [
       "9.999999747378752e-05 g/cm**3"
      ]
     },
     "execution_count": 29,
     "metadata": {},
     "output_type": "execute_result"
    }
   ],
   "source": [
    "g2[\"density\"][2,1,2]"
   ]
  },
  {
   "cell_type": "code",
   "execution_count": null,
   "metadata": {
    "collapsed": true
   },
   "outputs": [],
   "source": [
    "\n"
   ]
  },
  {
   "cell_type": "code",
   "execution_count": null,
   "metadata": {
    "collapsed": false
   },
   "outputs": [],
   "source": []
  }
 ],
 "metadata": {
  "anaconda-cloud": {},
  "kernelspec": {
   "display_name": "Python [default]",
   "language": "python",
   "name": "python3"
  },
  "language_info": {
   "codemirror_mode": {
    "name": "ipython",
    "version": 3
   },
   "file_extension": ".py",
   "mimetype": "text/x-python",
   "name": "python",
   "nbconvert_exporter": "python",
   "pygments_lexer": "ipython3",
   "version": "3.5.2"
  }
 },
 "nbformat": 4,
 "nbformat_minor": 1
}
