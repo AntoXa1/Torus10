{
 "cells": [
  {
   "cell_type": "code",
   "execution_count": 1,
   "metadata": {
    "collapsed": false
   },
   "outputs": [
    {
     "data": {
      "text/plain": [
       "1.2909944487358056"
      ]
     },
     "execution_count": 1,
     "metadata": {},
     "output_type": "execute_result"
    }
   ],
   "source": [
    "sqrt(5/3)"
   ]
  },
  {
   "cell_type": "code",
   "execution_count": 2,
   "metadata": {
    "collapsed": false
   },
   "outputs": [
    {
     "data": {
      "text/plain": [
       "2.777777777777778"
      ]
     },
     "execution_count": 2,
     "metadata": {},
     "output_type": "execute_result"
    }
   ],
   "source": [
    "(5/3)^2"
   ]
  },
  {
   "cell_type": "code",
   "execution_count": 5,
   "metadata": {
    "collapsed": false
   },
   "outputs": [
    {
     "data": {
      "text/plain": [
       "0.3383634090133695"
      ]
     },
     "execution_count": 5,
     "metadata": {},
     "output_type": "execute_result"
    }
   ],
   "source": [
    "c0 = 2.126\n",
    "Sg0 = 2\n",
    "Om0 = 1\n",
    "c0*Om0/(pi*Sg0)"
   ]
  },
  {
   "cell_type": "code",
   "execution_count": 13,
   "metadata": {
    "collapsed": false
   },
   "outputs": [
    {
     "data": {
      "text/plain": [
       "2.12630236019562"
      ]
     },
     "execution_count": 13,
     "metadata": {},
     "output_type": "execute_result"
    }
   ],
   "source": [
    "1/0.4703"
   ]
  },
  {
   "cell_type": "code",
   "execution_count": 40,
   "metadata": {
    "collapsed": false
   },
   "outputs": [
    {
     "data": {
      "image/png": "[encoded data removed]",
      "text/plain": [
       "PyPlot.Figure(PyObject <matplotlib.figure.Figure object at 0x32d62fad0>)"
      ]
     },
     "metadata": {},
     "output_type": "display_data"
    },
    {
     "name": "stderr",
     "output_type": "stream",
     "text": [
      "WARNING: Method definition fn(Any) in module Main at In[39]:5 overwritten at In[40]:5.\n"
     ]
    },
    {
     "data": {
      "text/plain": [
       "2-element Array{Any,1}:\n",
       " PyObject <matplotlib.lines.Line2D object at 0x32e2afd10>\n",
       " PyObject <matplotlib.lines.Line2D object at 0x32e3dddd0>"
      ]
     },
     "execution_count": 40,
     "metadata": {},
     "output_type": "execute_result"
    }
   ],
   "source": [
    "using PyPlot\n",
    "\n",
    "x = linspace(0,5,10);\n",
    "\n",
    "fn(x)= 1./cosh(x).^2\n",
    "\n",
    "semilogy(x,fn(x),\"-\", x, exp(-x.^2), \"--\")"
   ]
  },
  {
   "cell_type": "code",
   "execution_count": 17,
   "metadata": {
    "collapsed": false
   },
   "outputs": [
    {
     "name": "stdout",
     "output_type": "stream",
     "text": [
      "search: \u001b[1mf\u001b[22m\u001b[1mu\u001b[22m\u001b[1mn\u001b[22m\u001b[1mc\u001b[22m\u001b[1mt\u001b[22m\u001b[1mi\u001b[22m\u001b[1mo\u001b[22m\u001b[1mn\u001b[22m \u001b[1mF\u001b[22m\u001b[1mu\u001b[22m\u001b[1mn\u001b[22m\u001b[1mc\u001b[22m\u001b[1mt\u001b[22m\u001b[1mi\u001b[22m\u001b[1mo\u001b[22m\u001b[1mn\u001b[22m \u001b[1mf\u001b[22m\u001b[1mu\u001b[22m\u001b[1mn\u001b[22m\u001b[1mc\u001b[22m\u001b[1mt\u001b[22m\u001b[1mi\u001b[22m\u001b[1mo\u001b[22m\u001b[1mn\u001b[22mloc c\u001b[1mf\u001b[22m\u001b[1mu\u001b[22m\u001b[1mn\u001b[22m\u001b[1mc\u001b[22m\u001b[1mt\u001b[22m\u001b[1mi\u001b[22m\u001b[1mo\u001b[22m\u001b[1mn\u001b[22m @\u001b[1mf\u001b[22m\u001b[1mu\u001b[22m\u001b[1mn\u001b[22m\u001b[1mc\u001b[22m\u001b[1mt\u001b[22m\u001b[1mi\u001b[22m\u001b[1mo\u001b[22m\u001b[1mn\u001b[22mloc broadcast_\u001b[1mf\u001b[22m\u001b[1mu\u001b[22m\u001b[1mn\u001b[22m\u001b[1mc\u001b[22m\u001b[1mt\u001b[22m\u001b[1mi\u001b[22m\u001b[1mo\u001b[22m\u001b[1mn\u001b[22m\n",
      "\n"
     ]
    },
    {
     "data": {
      "text/markdown": [
       "Functions are defined with the `function` keyword:\n",
       "\n",
       "```\n",
       "function add(a, b)\n",
       "    return a + b\n",
       "end\n",
       "```\n",
       "\n",
       "Or the short form notation:\n",
       "\n",
       "```\n",
       "add(a, b) = a + b\n",
       "```\n",
       "\n",
       "The use of the `return` keyword is exactly the same as in other languages, but is often optional. When it's not used, the last expression in the function body will be returned by default:\n",
       "\n",
       "```\n",
       "function compare(a, b)\n",
       "    a == b && return \"equal to\"\n",
       "    a < b ? \"less than\" : \"greater than\"\n",
       "end\n",
       "```\n"
      ],
      "text/plain": [
       "Functions are defined with the `function` keyword:\n",
       "\n",
       "```\n",
       "function add(a, b)\n",
       "    return a + b\n",
       "end\n",
       "```\n",
       "\n",
       "Or the short form notation:\n",
       "\n",
       "```\n",
       "add(a, b) = a + b\n",
       "```\n",
       "\n",
       "The use of the `return` keyword is exactly the same as in other languages, but is often optional. When it's not used, the last expression in the function body will be returned by default:\n",
       "\n",
       "```\n",
       "function compare(a, b)\n",
       "    a == b && return \"equal to\"\n",
       "    a < b ? \"less than\" : \"greater than\"\n",
       "end\n",
       "```\n"
      ]
     },
     "execution_count": 17,
     "metadata": {},
     "output_type": "execute_result"
    }
   ],
   "source": [
    "?function"
   ]
  },
  {
   "cell_type": "code",
   "execution_count": 6,
   "metadata": {
    "collapsed": false
   },
   "outputs": [
    {
     "ename": "LoadError",
     "evalue": "syntax: extra token \"scipy\" after end of expression",
     "output_type": "error",
     "traceback": [
      "syntax: extra token \"scipy\" after end of expression",
      ""
     ]
    }
   ],
   "source": [
    "from scipy.fftpack import fft\n",
    "\n",
    "import matplotlib.pyplot as plt\n"
   ]
  },
  {
   "cell_type": "code",
   "execution_count": 1,
   "metadata": {
    "collapsed": false
   },
   "outputs": [
    {
     "ename": "LoadError",
     "evalue": "ArgumentError: Module numpy not found in current path.\nRun `Pkg.add(\"numpy\")` to install the numpy package.",
     "output_type": "error",
     "traceback": [
      "ArgumentError: Module numpy not found in current path.\nRun `Pkg.add(\"numpy\")` to install the numpy package.",
      "",
      " in require(::Symbol) at ./loading.jl:365",
      " in require(::Symbol) at /Applications/Julia-0.5.app/Contents/Resources/julia/lib/julia/sys.dylib:?"
     ]
    }
   ],
   "source": [
    "import numpy\n",
    "\n",
    "N = 600\n",
    "T = 1.0 / 800.0\n",
    "x = np.linspace(0.0, N*T, N)\n",
    "y = np.sin(50.0 * 2.0*np.pi*x) + 0.5*np.sin(80.0 * 2.0*np.pi*x)\n",
    "yf = fft(y)\n",
    "xf = np.linspace(0.0, 1.0/(2.0*T), N//2)\n",
    "plt.plot(xf, 2.0/N * np.abs(yf[0:N//2]))\n",
    "plt.grid()\n",
    "plt.show()"
   ]
  },
  {
   "cell_type": "code",
   "execution_count": 11,
   "metadata": {
    "collapsed": false
   },
   "outputs": [
    {
     "ename": "LoadError",
     "evalue": "unknown package numpy\n in macro expansion at ./pkg/entry.jl:53 [inlined]\n in (::Base.Pkg.Entry.##2#5{String,Base.Pkg.Types.VersionSet})() at ./task.jl:360",
     "output_type": "error",
     "traceback": [
      "unknown package numpy\n in macro expansion at ./pkg/entry.jl:53 [inlined]\n in (::Base.Pkg.Entry.##2#5{String,Base.Pkg.Types.VersionSet})() at ./task.jl:360",
      "",
      " in sync_end() at ./task.jl:311",
      " in macro expansion at ./task.jl:327 [inlined]",
      " in add(::String, ::Base.Pkg.Types.VersionSet) at ./pkg/entry.jl:51",
      " in (::Base.Pkg.Dir.##2#3{Array{Any,1},Base.Pkg.Entry.#add,Tuple{String}})() at ./pkg/dir.jl:31",
      " in cd(::Base.Pkg.Dir.##2#3{Array{Any,1},Base.Pkg.Entry.#add,Tuple{String}}, ::String) at ./file.jl:59",
      " in #cd#1(::Array{Any,1}, ::Function, ::Function, ::String, ::Vararg{Any,N}) at ./pkg/dir.jl:31",
      " in add(::String) at ./pkg/pkg.jl:100"
     ]
    }
   ],
   "source": [
    "Pkg.add(\"numpy\")"
   ]
  },
  {
   "cell_type": "code",
   "execution_count": null,
   "metadata": {
    "collapsed": true
   },
   "outputs": [],
   "source": []
  }
 ],
 "metadata": {
  "anaconda-cloud": {},
  "kernelspec": {
   "display_name": "Julia 0.5.1",
   "language": "julia",
   "name": "julia-0.5"
  },
  "language_info": {
   "file_extension": ".jl",
   "mimetype": "application/julia",
   "name": "julia",
   "version": "0.5.1"
  }
 },
 "nbformat": 4,
 "nbformat_minor": 1
}
